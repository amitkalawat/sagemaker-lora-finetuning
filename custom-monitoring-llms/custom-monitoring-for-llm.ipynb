{
 "cells": [
  {
   "cell_type": "code",
   "execution_count": 3,
   "id": "3d484578",
   "metadata": {},
   "outputs": [
    {
     "name": "stdout",
     "output_type": "stream",
     "text": [
      "RoleArn: arn:aws:iam::376678947624:role/vegetation-management-works-SageMakerExecutionRole-OZ2K30BYST0I\n"
     ]
    }
   ],
   "source": [
    "# Handful of configuration\n",
    "\n",
    "import os\n",
    "import boto3\n",
    "import json\n",
    "from sagemaker import get_execution_role, session\n",
    "\n",
    "region= boto3.Session().region_name\n",
    "\n",
    "sm_client = boto3.client('sagemaker')\n",
    "\n",
    "role = get_execution_role()\n",
    "print(\"RoleArn: {}\".format(role))"
   ]
  },
  {
   "cell_type": "code",
   "execution_count": 2,
   "id": "57243a4a",
   "metadata": {},
   "outputs": [],
   "source": [
    "%store -r endpoint_name\n",
    "%store -r default_bucket\n",
    "%store -r current_endpoint_capture_prefix\n",
    "%store -r s3_key_prefix"
   ]
  },
  {
   "cell_type": "code",
   "execution_count": 7,
   "id": "d1cdfb99",
   "metadata": {},
   "outputs": [
    {
     "name": "stdout",
     "output_type": "stream",
     "text": [
      "download: s3://sagemaker-us-west-2-376678947624/Mikael110-llama-2-7b-guanaco-fp16/datacapture/llama-2-7b-2023-10-21-02-26-02-152-endpoint/AllTraffic/2023/10/21/02/35-09-353-1f41490f-4e1e-4c43-8d9a-2bb25433a0e6.jsonl to workspace/data/AllTraffic/2023/10/21/02/35-09-353-1f41490f-4e1e-4c43-8d9a-2bb25433a0e6.jsonl\n",
      "download: s3://sagemaker-us-west-2-376678947624/Mikael110-llama-2-7b-guanaco-fp16/datacapture/llama-2-7b-2023-10-21-02-26-02-152-endpoint/AllTraffic/2023/10/21/03/39-07-208-5459146d-0729-4374-b559-5b391308ce08.jsonl to workspace/data/AllTraffic/2023/10/21/03/39-07-208-5459146d-0729-4374-b559-5b391308ce08.jsonl\n",
      "download: s3://sagemaker-us-west-2-376678947624/Mikael110-llama-2-7b-guanaco-fp16/datacapture/llama-2-7b-2023-10-21-02-26-02-152-endpoint/AllTraffic/2023/10/21/03/41-03-334-9a247cda-7335-4bb7-b896-05f56d5b1afd.jsonl to workspace/data/AllTraffic/2023/10/21/03/41-03-334-9a247cda-7335-4bb7-b896-05f56d5b1afd.jsonl\n"
     ]
    }
   ],
   "source": [
    "!aws s3 sync s3://{default_bucket}/{current_endpoint_capture_prefix} workspace/data"
   ]
  },
  {
   "cell_type": "markdown",
   "id": "a9b0e3ef",
   "metadata": {},
   "source": [
    "## Test script locally"
   ]
  },
  {
   "cell_type": "code",
   "execution_count": 19,
   "id": "14ee727d",
   "metadata": {
    "scrolled": true
   },
   "outputs": [
    {
     "name": "stdout",
     "output_type": "stream",
     "text": [
      "['Tell me a fun fact about Boca Raton, Florida', 'What is an anemone?', 'What are some quick ways to lose all of my money?', 'What is core banking?', 'What are some items that you might see in a fridge?', 'what can we do when coffee spill on laptop to make it working', 'Using examples taken from the paragraph, provide the major risks to humans with climate change in a short bulleted list', 'How many world championships has Max Verstappen won?', 'Which is a species of fish? Tetra or Quart', 'Why is pricing important in the overall strategy of a product?']\n",
      "['Boca Raton is known for various items including:', 'An anemone is a flower with multiple petals that are joined at the center, forming a shape that resembles a cup. The petals are usually arranged in a radial pattern, with the center of the flower being the hub of the anemone. The flower is typically pink, red, or white in color, and is characterized by its delicate and intricate appearance. The anemone is a very popular flower choice for floral arrangements, as it adds a striking and unique element to any bouquet.', 'Keep your money in an account with low interest', \"It is a general term used to describe a bank's back-end technology platform. A core banking system is an electronic transaction processing system that stores, manages, and processes banking transactions securely. This platform serves as the core technology infrastructure for the bank, and it is used to support banking services like deposits, withdrawals, loans, and merchant transactions. A core banking system can be used to support a variety of banking products and services, including personal and commercial banking, credit cards, investment products, and lending. It is typically designed to be modular, scalable, and highly adaptable, allowing banks to respond quickly to changing market conditions and customer needs. A core banking system typically stores customer data in a centralized database, which provides a central source of data for the bank to manage and analyze customer relationships.\", 'Sauces', '1. Shut down the device immediately', None, 'Max Verstappen has won five World Championships: ', 'Quart### Explanation', 'Pricing is a crucial element of a product’s strategy as it directly impacts a product’s success in the market. The aim of pricing is to maximize profits while ensuring that the product remains competitive and attractive to customers. A product’s pricing strategy is an integral part of the product’s overall strategy as it affects the product’s positioning, brand image, and profitability. By understanding why pricing is important in the overall strategy of a product, businesses can make informed decisions that optimize the product’s performance in the market.']\n",
      "\n",
      "-----------\n",
      "\n",
      "* Tell me a fun fact about Boca Raton, Florida --> Boca Raton is known for various items including: --> <<0>>\n",
      "\n",
      "-----------\n",
      "\n",
      "* What is an anemone? --> An anemone is a flower with multiple petals that are joined at the center, forming a shape that resembles a cup. The petals are usually arranged in a radial pattern, with the center of the flower being the hub of the anemone. The flower is typically pink, red, or white in color, and is characterized by its delicate and intricate appearance. The anemone is a very popular flower choice for floral arrangements, as it adds a striking and unique element to any bouquet. --> <<1>>\n",
      "\n",
      "-----------\n",
      "\n",
      "* What are some quick ways to lose all of my money? --> Keep your money in an account with low interest --> <<0>>\n",
      "\n",
      "-----------\n",
      "\n",
      "* What is core banking? --> It is a general term used to describe a bank's back-end technology platform. A core banking system is an electronic transaction processing system that stores, manages, and processes banking transactions securely. This platform serves as the core technology infrastructure for the bank, and it is used to support banking services like deposits, withdrawals, loans, and merchant transactions. A core banking system can be used to support a variety of banking products and services, including personal and commercial banking, credit cards, investment products, and lending. It is typically designed to be modular, scalable, and highly adaptable, allowing banks to respond quickly to changing market conditions and customer needs. A core banking system typically stores customer data in a centralized database, which provides a central source of data for the bank to manage and analyze customer relationships. --> <<1>>\n",
      "\n",
      "-----------\n",
      "\n",
      "* What are some items that you might see in a fridge? --> Sauces --> <<0>>\n",
      "\n",
      "-----------\n",
      "\n",
      "* what can we do when coffee spill on laptop to make it working --> 1. Shut down the device immediately --> <<1>>\n",
      "\n",
      "-----------\n",
      "\n",
      "* Using examples taken from the paragraph, provide the major risks to humans with climate change in a short bulleted list --> None --> <<0>>\n",
      "\n",
      "-----------\n",
      "\n",
      "* How many world championships has Max Verstappen won? --> Max Verstappen has won five World Championships:  --> <<1>>\n",
      "\n",
      "-----------\n",
      "\n",
      "* Which is a species of fish? Tetra or Quart --> Quart### Explanation --> <<0>>\n",
      "\n",
      "-----------\n",
      "\n",
      "* Why is pricing important in the overall strategy of a product? --> Pricing is a crucial element of a product’s strategy as it directly impacts a product’s success in the market. The aim of pricing is to maximize profits while ensuring that the product remains competitive and attractive to customers. A product’s pricing strategy is an integral part of the product’s overall strategy as it affects the product’s positioning, brand image, and profitability. By understanding why pricing is important in the overall strategy of a product, businesses can make informed decisions that optimize the product’s performance in the market. --> <<1>>\n",
      "relevancy score: 50.0 /100\n"
     ]
    }
   ],
   "source": [
    "os.environ['dataset_source'] = f'{os.getcwd()}/workspace/data'\n",
    "os.environ['output_path'] = f'{os.getcwd()}/workspace/output'\n",
    "\n",
    "!python workspace/src/llm_monitoring.py"
   ]
  },
  {
   "cell_type": "markdown",
   "id": "acb08750",
   "metadata": {},
   "source": [
    "## Test container locally"
   ]
  },
  {
   "cell_type": "code",
   "execution_count": 27,
   "id": "1bbae84b",
   "metadata": {},
   "outputs": [
    {
     "name": "stdout",
     "output_type": "stream",
     "text": [
      "\u001b[34mFROM\u001b[39;49;00m\u001b[37m \u001b[39;49;00m\u001b[33mpython:3.9-slim-buster\u001b[39;49;00m\u001b[37m\u001b[39;49;00m\r\n",
      "\u001b[37m\u001b[39;49;00m\r\n",
      "\u001b[34mRUN\u001b[39;49;00m\u001b[37m \u001b[39;49;00mpip3\u001b[37m \u001b[39;49;00minstall\u001b[37m \u001b[39;49;00mbotocore\u001b[37m \u001b[39;49;00m\u001b[31mboto3\u001b[39;49;00m==\u001b[34m1\u001b[39;49;00m.28.67\u001b[37m \u001b[39;49;00m\u001b[31mlangchain\u001b[39;49;00m==\u001b[34m0\u001b[39;49;00m.0.319\u001b[37m\u001b[39;49;00m\r\n",
      "\u001b[37m\u001b[39;49;00m\r\n",
      "\u001b[34mWORKDIR\u001b[39;49;00m\u001b[37m \u001b[39;49;00m\u001b[33m/home\u001b[39;49;00m\u001b[37m\u001b[39;49;00m\r\n",
      "\u001b[37m\u001b[39;49;00m\r\n",
      "\u001b[34mCOPY\u001b[39;49;00m\u001b[37m \u001b[39;49;00msrc/*\u001b[37m \u001b[39;49;00m/home/\u001b[37m\u001b[39;49;00m\r\n",
      "\u001b[34mCOPY\u001b[39;49;00m\u001b[37m \u001b[39;49;00mdata/\u001b[37m \u001b[39;49;00m/home/data\u001b[37m\u001b[39;49;00m\r\n",
      "\u001b[37m\u001b[39;49;00m\r\n",
      "\u001b[34mENTRYPOINT\u001b[39;49;00m\u001b[37m \u001b[39;49;00m[\u001b[33m\"python3\"\u001b[39;49;00m,\u001b[37m \u001b[39;49;00m\u001b[33m\"llm_monitoring.py\"\u001b[39;49;00m]\u001b[37m\u001b[39;49;00m\r\n"
     ]
    }
   ],
   "source": [
    "!pygmentize workspace/Dockerfile"
   ]
  },
  {
   "cell_type": "code",
   "execution_count": 34,
   "id": "282747a0",
   "metadata": {},
   "outputs": [
    {
     "name": "stdout",
     "output_type": "stream",
     "text": [
      "Sending build context to Docker daemon  60.93kB\n",
      "Step 1/5 : FROM python:3.9-slim-buster\n",
      " ---> c84dbfe3b8de\n",
      "Step 2/5 : RUN pip3 install botocore boto3==1.28.67 langchain==0.0.319\n",
      " ---> Using cache\n",
      " ---> b4962bb1a66f\n",
      "Step 3/5 : WORKDIR /home\n",
      " ---> Using cache\n",
      " ---> 6099b9f6c3ab\n",
      "Step 4/5 : COPY src/* /home/\n",
      " ---> Using cache\n",
      " ---> b88bcd529691\n",
      "Step 5/5 : ENTRYPOINT [\"python3\", \"llm_monitoring.py\"]\n",
      " ---> Running in ec21de85cc29\n",
      "Removing intermediate container ec21de85cc29\n",
      " ---> cde8e3c17dd9\n",
      "Successfully built cde8e3c17dd9\n",
      "Successfully tagged workspace:latest\n"
     ]
    }
   ],
   "source": [
    "!cd workspace && docker build -t workspace ."
   ]
  },
  {
   "cell_type": "code",
   "execution_count": 39,
   "id": "db8945c7",
   "metadata": {
    "scrolled": true
   },
   "outputs": [
    {
     "name": "stdout",
     "output_type": "stream",
     "text": [
      "['Tell me a fun fact about Boca Raton, Florida', 'What is an anemone?', 'What are some quick ways to lose all of my money?', 'What is core banking?', 'What are some items that you might see in a fridge?', 'what can we do when coffee spill on laptop to make it working', 'Using examples taken from the paragraph, provide the major risks to humans with climate change in a short bulleted list', 'How many world championships has Max Verstappen won?', 'Which is a species of fish? Tetra or Quart', 'Why is pricing important in the overall strategy of a product?']\r\n",
      "['Boca Raton is known for various items including:', 'An anemone is a flower with multiple petals that are joined at the center, forming a shape that resembles a cup. The petals are usually arranged in a radial pattern, with the center of the flower being the hub of the anemone. The flower is typically pink, red, or white in color, and is characterized by its delicate and intricate appearance. The anemone is a very popular flower choice for floral arrangements, as it adds a striking and unique element to any bouquet.', 'Keep your money in an account with low interest', \"It is a general term used to describe a bank's back-end technology platform. A core banking system is an electronic transaction processing system that stores, manages, and processes banking transactions securely. This platform serves as the core technology infrastructure for the bank, and it is used to support banking services like deposits, withdrawals, loans, and merchant transactions. A core banking system can be used to support a variety of banking products and services, including personal and commercial banking, credit cards, investment products, and lending. It is typically designed to be modular, scalable, and highly adaptable, allowing banks to respond quickly to changing market conditions and customer needs. A core banking system typically stores customer data in a centralized database, which provides a central source of data for the bank to manage and analyze customer relationships.\", 'Sauces', '1. Shut down the device immediately', None, 'Max Verstappen has won five World Championships: ', 'Quart### Explanation', 'Pricing is a crucial element of a product’s strategy as it directly impacts a product’s success in the market. The aim of pricing is to maximize profits while ensuring that the product remains competitive and attractive to customers. A product’s pricing strategy is an integral part of the product’s overall strategy as it affects the product’s positioning, brand image, and profitability. By understanding why pricing is important in the overall strategy of a product, businesses can make informed decisions that optimize the product’s performance in the market.']\r\n",
      "\r\n",
      "-----------\r\n",
      "\r\n",
      "* Tell me a fun fact about Boca Raton, Florida --> Boca Raton is known for various items including: --> <<0>>\r\n",
      "\r\n",
      "-----------\r\n",
      "\r\n",
      "* What is an anemone? --> An anemone is a flower with multiple petals that are joined at the center, forming a shape that resembles a cup. The petals are usually arranged in a radial pattern, with the center of the flower being the hub of the anemone. The flower is typically pink, red, or white in color, and is characterized by its delicate and intricate appearance. The anemone is a very popular flower choice for floral arrangements, as it adds a striking and unique element to any bouquet. --> <<1>>\r\n",
      "\r\n",
      "-----------\r\n",
      "\r\n",
      "* What are some quick ways to lose all of my money? --> Keep your money in an account with low interest --> <<0>>\r\n",
      "\r\n",
      "-----------\r\n",
      "\r\n",
      "* What is core banking? --> It is a general term used to describe a bank's back-end technology platform. A core banking system is an electronic transaction processing system that stores, manages, and processes banking transactions securely. This platform serves as the core technology infrastructure for the bank, and it is used to support banking services like deposits, withdrawals, loans, and merchant transactions. A core banking system can be used to support a variety of banking products and services, including personal and commercial banking, credit cards, investment products, and lending. It is typically designed to be modular, scalable, and highly adaptable, allowing banks to respond quickly to changing market conditions and customer needs. A core banking system typically stores customer data in a centralized database, which provides a central source of data for the bank to manage and analyze customer relationships. --> <<1>>\r\n",
      "\r\n",
      "-----------\r\n",
      "\r\n",
      "* What are some items that you might see in a fridge? --> Sauces --> <<0>>\r\n",
      "\r\n",
      "-----------\r\n",
      "\r\n",
      "* what can we do when coffee spill on laptop to make it working --> 1. Shut down the device immediately --> <<1>>\r\n",
      "\r\n",
      "-----------\r\n",
      "\r\n",
      "* Using examples taken from the paragraph, provide the major risks to humans with climate change in a short bulleted list --> None --> <<0>>\r\n",
      "\r\n",
      "-----------\r\n",
      "\r\n",
      "* How many world championships has Max Verstappen won? --> Max Verstappen has won five World Championships:  --> <<1>>\r\n",
      "\r\n",
      "-----------\r\n",
      "\r\n",
      "* Which is a species of fish? Tetra or Quart --> Quart### Explanation --> <<0>>\r\n",
      "\r\n",
      "-----------\r\n",
      "\r\n",
      "* Why is pricing important in the overall strategy of a product? --> Pricing is a crucial element of a product’s strategy as it directly impacts a product’s success in the market. The aim of pricing is to maximize profits while ensuring that the product remains competitive and attractive to customers. A product’s pricing strategy is an integral part of the product’s overall strategy as it affects the product’s positioning, brand image, and profitability. By understanding why pricing is important in the overall strategy of a product, businesses can make informed decisions that optimize the product’s performance in the market. --> <<1>>\r\n",
      "relevancy score: 50.0 /100\r\n"
     ]
    }
   ],
   "source": [
    "!docker run -v {os.getcwd()}/workspace/data:/home/data -v {os.getcwd()}/workspace/output:/home/output -e dataset_source=data/ -e output_path=output workspace"
   ]
  },
  {
   "cell_type": "markdown",
   "id": "e02fc626",
   "metadata": {},
   "source": [
    "## Bring your own custom model drift detection algorithm\n",
    "\n",
    "In order to bring your own custom model drift detection algorithm, you need to do following things:\n",
    "* Create custom detection algorithms. We have included algorithms under src folder\n",
    "* Create a Docker container.\n",
    "* Set enviornmental variables where the container can find the datacapture data from SageMaker Model Monitor. These variables have to match with the values we provide to monitor scheduler later."
   ]
  },
  {
   "cell_type": "code",
   "execution_count": 1,
   "id": "ece8f8b7",
   "metadata": {},
   "outputs": [
    {
     "name": "stdout",
     "output_type": "stream",
     "text": [
      "Building docker image custom-llm-monitor from workspace/Dockerfile\n",
      "$ docker build -t custom-llm-monitor -f workspace/Dockerfile workspace\n",
      "Sending build context to Docker daemon  61.44kB\n",
      "Step 1/5 : FROM python:3.9-slim-buster\n",
      " ---> c84dbfe3b8de\n",
      "Step 2/5 : RUN pip3 install botocore boto3==1.28.67 langchain==0.0.319\n",
      " ---> Using cache\n",
      " ---> b4962bb1a66f\n",
      "Step 3/5 : WORKDIR /home\n",
      " ---> Using cache\n",
      " ---> 6099b9f6c3ab\n",
      "Step 4/5 : COPY src/* /home/\n",
      " ---> Using cache\n",
      " ---> b88bcd529691\n",
      "Step 5/5 : ENTRYPOINT [\"python3\", \"llm_monitoring.py\"]\n",
      " ---> Using cache\n",
      " ---> cde8e3c17dd9\n",
      "Successfully built cde8e3c17dd9\n",
      "Successfully tagged custom-llm-monitor:latest\n",
      "Done building docker image custom-llm-monitor\n",
      "Created new ECR repository: custom-llm-monitor\n",
      "WARNING! Using --password via the CLI is insecure. Use --password-stdin.\n",
      "WARNING! Your password will be stored unencrypted in /home/ec2-user/.docker/config.json.\n",
      "Configure a credential helper to remove this warning. See\n",
      "https://docs.docker.com/engine/reference/commandline/login/#credentials-store\n",
      "\n",
      "Login Succeeded\n",
      "Logged into ECR\n",
      "$ docker tag custom-llm-monitor 376678947624.dkr.ecr.us-west-2.amazonaws.com/custom-llm-monitor\n",
      "Pushing docker image to ECR repository 376678947624.dkr.ecr.us-west-2.amazonaws.com/custom-llm-monitor\n",
      "\n",
      "$ docker push 376678947624.dkr.ecr.us-west-2.amazonaws.com/custom-llm-monitor\n",
      "Using default tag: latest\n",
      "The push refers to repository [376678947624.dkr.ecr.us-west-2.amazonaws.com/custom-llm-monitor]\n",
      "83566335f5f9: Preparing\n",
      "8b3af7e4972d: Preparing\n",
      "067ea27560c1: Preparing\n",
      "7fb1037e08b3: Preparing\n",
      "14cbeede8d6e: Preparing\n",
      "ae2d55769c5e: Preparing\n",
      "e2ef8a51359d: Preparing\n",
      "ae2d55769c5e: Waiting\n",
      "e2ef8a51359d: Waiting\n",
      "83566335f5f9: Pushed\n",
      "7fb1037e08b3: Pushed\n",
      "067ea27560c1: Pushed\n",
      "ae2d55769c5e: Pushed\n",
      "14cbeede8d6e: Pushed\n",
      "e2ef8a51359d: Pushed\n",
      "8b3af7e4972d: Pushed\n",
      "latest: digest: sha256:1611b4c8a3c4cc0d1f3bbcd0d0fe6ddd1287b01169a6f2094143bbcdd7e76ed4 size: 1790\n",
      "Done pushing 376678947624.dkr.ecr.us-west-2.amazonaws.com/custom-llm-monitor\n"
     ]
    }
   ],
   "source": [
    "from docker_utils import build_and_push_docker_image\n",
    "\n",
    "repository_short_name = 'custom-llm-monitor'\n",
    "\n",
    "image_name = build_and_push_docker_image(repository_short_name, dockerfile='workspace/Dockerfile', context='workspace')"
   ]
  },
  {
   "cell_type": "code",
   "execution_count": 6,
   "id": "ed5cc191",
   "metadata": {},
   "outputs": [
    {
     "data": {
      "text/plain": [
       "{'MonitoringScheduleArn': 'arn:aws:sagemaker:us-west-2:376678947624:monitoring-schedule/llama-2-7b-2023-10-21-02-26-02-152-endpoint',\n",
       " 'ResponseMetadata': {'RequestId': '398773ac-60fd-48b3-8d30-427eb28b7a79',\n",
       "  'HTTPStatusCode': 200,\n",
       "  'HTTPHeaders': {'x-amzn-requestid': '398773ac-60fd-48b3-8d30-427eb28b7a79',\n",
       "   'content-type': 'application/x-amz-json-1.1',\n",
       "   'content-length': '132',\n",
       "   'date': 'Sat, 21 Oct 2023 22:43:16 GMT'},\n",
       "  'RetryAttempts': 0}}"
      ]
     },
     "execution_count": 6,
     "metadata": {},
     "output_type": "execute_result"
    }
   ],
   "source": [
    "s3_result_path = f's3://{default_bucket}/{s3_key_prefix}/result/{endpoint_name}'\n",
    "\n",
    "sm_client.create_monitoring_schedule(\n",
    "    MonitoringScheduleName=endpoint_name,\n",
    "    MonitoringScheduleConfig={\n",
    "        'ScheduleConfig': {\n",
    "            'ScheduleExpression': 'cron(0 * ? * * *)'\n",
    "        },\n",
    "        'MonitoringJobDefinition': {\n",
    "            'MonitoringInputs': [\n",
    "                {\n",
    "                    'EndpointInput': {\n",
    "                        'EndpointName': endpoint_name,\n",
    "                        'LocalPath': '/opt/ml/processing/endpointdata'\n",
    "                    }\n",
    "                },\n",
    "            ],\n",
    "            'MonitoringOutputConfig': {\n",
    "                'MonitoringOutputs': [\n",
    "                    {\n",
    "                        'S3Output': {\n",
    "                            'S3Uri': s3_result_path,\n",
    "                            'LocalPath': '/opt/ml/processing/resultdata',\n",
    "                            'S3UploadMode': 'EndOfJob'\n",
    "                        }\n",
    "                    },\n",
    "                ]\n",
    "            },\n",
    "            'MonitoringResources': {\n",
    "                'ClusterConfig': {\n",
    "                    'InstanceCount': 1,\n",
    "                    'InstanceType': 'ml.c5.xlarge',\n",
    "                    'VolumeSizeInGB': 10\n",
    "                }\n",
    "            },\n",
    "            'MonitoringAppSpecification': {\n",
    "                'ImageUri': image_name,\n",
    "            },\n",
    "            'StoppingCondition': {\n",
    "                'MaxRuntimeInSeconds': 600\n",
    "            },\n",
    "            'Environment': {\n",
    "                'string': 'string'\n",
    "            },\n",
    "            'RoleArn': role\n",
    "        }\n",
    "    }\n",
    ")"
   ]
  },
  {
   "cell_type": "markdown",
   "id": "13d76d56",
   "metadata": {},
   "source": [
    "## Run monitoring job immediately"
   ]
  },
  {
   "cell_type": "code",
   "execution_count": 9,
   "id": "d234ec38",
   "metadata": {},
   "outputs": [
    {
     "name": "stderr",
     "output_type": "stream",
     "text": [
      "INFO:sagemaker:Creating processing-job with name custom-llm-monitor-2023-10-21-22-57-33-667\n"
     ]
    },
    {
     "name": "stdout",
     "output_type": "stream",
     "text": [
      "s3://sagemaker-us-west-2-376678947624/Mikael110-llama-2-7b-guanaco-fp16/datacapture/llama-2-7b-2023-10-21-02-26-02-152-endpoint\n",
      "llama-2-7b-2023-10-21-02-26-02-152-endpoint\n",
      ".......................\u001b[34m['Why some people are more stressed than others and how to manage stress?', 'Which episode of The X-Files did Dana Scully get diagnosed with cancer?', 'Why do I have a belly button?', 'Tell me a fun fact about Boca Raton, Florida', 'What is an anemone?', 'What are some quick ways to lose all of my money?', 'What is core banking?', 'What are some items that you might see in a fridge?', 'what can we do when coffee spill on laptop to make it working', 'Using examples taken from the paragraph, provide the major risks to humans with climate change in a short bulleted list', 'How many world championships has Max Verstappen won?', 'Which is a species of fish? Tetra or Quart', 'Why is pricing important in the overall strategy of a product?']\u001b[0m\n",
      "\u001b[34m[\"First, let's understand stress and its causes.\", 'Season five, episode seven: ‘Post-Modern Prometheus’.', \"The belly button is the remnant of the umbilical cord through which a fetus receives nutrients and oxygen from its mother. After birth, the cord is removed and the belly button remains as a reminder of the baby's development in the mother's womb. Today, the belly button may serve as a convenient location for wearing jewelry or carrying keys, although its original purpose was quite different from its modern use.### Instruction\", 'Boca Raton is known for various items including:', 'An anemone is a flower with multiple petals that are joined at the center, forming a shape that resembles a cup. The petals are usually arranged in a radial pattern, with the center of the flower being the hub of the anemone. The flower is typically pink, red, or white in color, and is characterized by its delicate and intricate appearance. The anemone is a very popular flower choice for floral arrangements, as it adds a striking and unique element to any bouquet.', 'Keep your money in an account with low interest', \"It is a general term used to describe a bank's back-end technology platform. A core banking system is an electronic transaction processing system that stores, manages, and processes banking transactions securely. This platform serves as the core technology infrastructure for the bank, and it is used to support banking services like deposits, withdrawals, loans, and merchant transactions. A core banking system can be used to support a variety of banking products and services, including personal and commercial banking, credit cards, investment products, and lending. It is typically designed to be modular, scalable, and highly adaptable, allowing banks to respond quickly to changing market conditions and customer needs. A core banking system typically stores customer data in a centralized database, which provides a central source of data for the bank to manage and analyze customer relationships.\", 'Sauces', '1. Shut down the device immediately', None, 'Max Verstappen has won five World Championships: ', 'Quart### Explanation', 'Pricing is a crucial element of a product’s strategy as it directly impacts a product’s success in the market. The aim of pricing is to maximize profits while ensuring that the product remains competitive and attractive to customers. A product’s pricing strategy is an integral part of the product’s overall strategy as it affects the product’s positioning, brand image, and profitability. By understanding why pricing is important in the overall strategy of a product, businesses can make informed decisions that optimize the product’s performance in the market.']\u001b[0m\n",
      "\u001b[34m-----------\u001b[0m\n",
      "\u001b[34m* Why some people are more stressed than others and how to manage stress? --> First, let's understand stress and its causes. --> <<0\u001b[0m\n",
      "\u001b[34mThe answer does not directly address the question asked. The question is specifically asking why some people are more stressed than others and how to manage stress. But the answer only talks about understanding stress and its causes in general. It does not compare stress levels between different people or provide tips on managing stress. So the answer is not relevant to the specific question asked.>>\u001b[0m\n",
      "\u001b[34m-----------\u001b[0m\n",
      "\u001b[34m* Which episode of The X-Files did Dana Scully get diagnosed with cancer? --> Season five, episode seven: ‘Post-Modern Prometheus’. --> <<0>>\u001b[0m\n",
      "\u001b[34m-----------\u001b[0m\n",
      "\u001b[34m* Why do I have a belly button? --> The belly button is the remnant of the umbilical cord through which a fetus receives nutrients and oxygen from its mother. After birth, the cord is removed and the belly button remains as a reminder of the baby's development in the mother's womb. Today, the belly button may serve as a convenient location for wearing jewelry or carrying keys, although its original purpose was quite different from its modern use.### Instruction --> <<0>>\u001b[0m\n",
      "\u001b[34m-----------\u001b[0m\n",
      "\u001b[34m* Tell me a fun fact about Boca Raton, Florida --> Boca Raton is known for various items including: --> <<0>>\u001b[0m\n",
      "\u001b[34m-----------\u001b[0m\n",
      "\u001b[34m* What is an anemone? --> An anemone is a flower with multiple petals that are joined at the center, forming a shape that resembles a cup. The petals are usually arranged in a radial pattern, with the center of the flower being the hub of the anemone. The flower is typically pink, red, or white in color, and is characterized by its delicate and intricate appearance. The anemone is a very popular flower choice for floral arrangements, as it adds a striking and unique element to any bouquet. --> <<1>>\u001b[0m\n",
      "\u001b[34m-----------\u001b[0m\n",
      "\u001b[34m* What are some quick ways to lose all of my money? --> Keep your money in an account with low interest --> <<0>>\u001b[0m\n",
      "\u001b[34m-----------\u001b[0m\n",
      "\u001b[34m* What is core banking? --> It is a general term used to describe a bank's back-end technology platform. A core banking system is an electronic transaction processing system that stores, manages, and processes banking transactions securely. This platform serves as the core technology infrastructure for the bank, and it is used to support banking services like deposits, withdrawals, loans, and merchant transactions. A core banking system can be used to support a variety of banking products and services, including personal and commercial banking, credit cards, investment products, and lending. It is typically designed to be modular, scalable, and highly adaptable, allowing banks to respond quickly to changing market conditions and customer needs. A core banking system typically stores customer data in a centralized database, which provides a central source of data for the bank to manage and analyze customer relationships. --> <<1>>\u001b[0m\n",
      "\u001b[34m-----------\u001b[0m\n",
      "\u001b[34m* What are some items that you might see in a fridge? --> Sauces --> <<0>>\u001b[0m\n",
      "\u001b[34m-----------\u001b[0m\n",
      "\u001b[34m* what can we do when coffee spill on laptop to make it working --> 1. Shut down the device immediately --> <<1>>\u001b[0m\n",
      "\u001b[34m-----------\u001b[0m\n",
      "\u001b[34m* Using examples taken from the paragraph, provide the major risks to humans with climate change in a short bulleted list --> None --> <<0>>\u001b[0m\n",
      "\u001b[34m-----------\u001b[0m\n",
      "\u001b[34m* How many world championships has Max Verstappen won? --> Max Verstappen has won five World Championships:  --> <<1>>\u001b[0m\n",
      "\u001b[34m-----------\u001b[0m\n",
      "\u001b[34m* Which is a species of fish? Tetra or Quart --> Quart### Explanation --> <<0>>\u001b[0m\n",
      "\u001b[34m-----------\u001b[0m\n",
      "\u001b[34m* Why is pricing important in the overall strategy of a product? --> Pricing is a crucial element of a product’s strategy as it directly impacts a product’s success in the market. The aim of pricing is to maximize profits while ensuring that the product remains competitive and attractive to customers. A product’s pricing strategy is an integral part of the product’s overall strategy as it affects the product’s positioning, brand image, and profitability. By understanding why pricing is important in the overall strategy of a product, businesses can make informed decisions that optimize the product’s performance in the market. --> <<1>>\u001b[0m\n",
      "\u001b[34mrelevancy score: 38.46153846153847 /100\u001b[0m\n",
      "\n"
     ]
    }
   ],
   "source": [
    "from sagemaker.processing import Processor, ProcessingInput, ProcessingOutput\n",
    "from urllib.parse import urlparse\n",
    "\n",
    "# region\n",
    "# role\n",
    "data_capture_path=f's3://{default_bucket}/{current_endpoint_capture_prefix}'\n",
    "# s3_result_path\n",
    "instance_count=1\n",
    "instance_type='ml.c5.xlarge'\n",
    "# publish_cloudwatch_metrics='Disabled'\n",
    "\n",
    "data_capture_sub_path = data_capture_path[data_capture_path.rfind('datacapture/') :]\n",
    "data_capture_sub_path = data_capture_sub_path[data_capture_sub_path.find('/') + 1 :]\n",
    "\n",
    "input_1 = ProcessingInput(input_name='input_1',\n",
    "                      source=data_capture_path,\n",
    "                      destination='/opt/ml/processing/input/endpoint/' + data_capture_sub_path,\n",
    "                      s3_data_type='S3Prefix',\n",
    "                      s3_input_mode='File')\n",
    "\n",
    "outputs = ProcessingOutput(output_name='result',\n",
    "                           source='/opt/ml/processing/output',\n",
    "                           destination=s3_result_path,\n",
    "                           s3_upload_mode='Continuous')\n",
    "\n",
    "env = {'dataset_source': '/opt/ml/processing/input/endpoint',\n",
    "       'output_path': '/opt/ml/processing/output'}\n",
    "\n",
    "processor = Processor(image_uri = image_name,\n",
    "                      instance_count = instance_count,\n",
    "                      instance_type = instance_type,\n",
    "                      role=role,\n",
    "                      env = env)\n",
    "\n",
    "processor.run(inputs=[input_1], outputs=[outputs])"
   ]
  },
  {
   "cell_type": "code",
   "execution_count": null,
   "id": "e530c057",
   "metadata": {},
   "outputs": [],
   "source": []
  }
 ],
 "metadata": {
  "kernelspec": {
   "display_name": "conda_pytorch_p310",
   "language": "python",
   "name": "conda_pytorch_p310"
  },
  "language_info": {
   "codemirror_mode": {
    "name": "ipython",
    "version": 3
   },
   "file_extension": ".py",
   "mimetype": "text/x-python",
   "name": "python",
   "nbconvert_exporter": "python",
   "pygments_lexer": "ipython3",
   "version": "3.10.12"
  }
 },
 "nbformat": 4,
 "nbformat_minor": 5
}
