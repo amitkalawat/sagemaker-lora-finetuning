{
 "cells": [
  {
   "cell_type": "markdown",
   "id": "6bdb4550",
   "metadata": {},
   "source": [
    "## Merge base and LoRA adapters For LLama2 13B\n",
    "\n",
    "Make sure you pick an instance type with enough memory. Llama2 13B needs about 26GB of memory to process the merge"
   ]
  },
  {
   "cell_type": "code",
   "execution_count": 1,
   "id": "f12bb7be-499d-4aae-9930-ee849e8b3a8b",
   "metadata": {},
   "outputs": [],
   "source": [
    "!pip install -Uq peft==0.4.0\n",
    "!pip install -Uq bitsandbytes==0.40.2\n",
    "!pip install -Uq sentencepiece"
   ]
  },
  {
   "cell_type": "markdown",
   "id": "2ef73adf-40b1-4f0e-91e3-8952e2b27b69",
   "metadata": {},
   "source": [
    "### > Setup"
   ]
  },
  {
   "cell_type": "code",
   "execution_count": 2,
   "id": "af828578-3933-442e-b878-08a971e60e4e",
   "metadata": {},
   "outputs": [],
   "source": [
    "import torch\n",
    "from transformers import AutoModelForCausalLM, AutoTokenizer, BitsAndBytesConfig\n",
    "from peft import PeftModel"
   ]
  },
  {
   "cell_type": "markdown",
   "id": "f55e53ad-c4b0-4867-bed5-3cb704aa0038",
   "metadata": {},
   "source": [
    "### > Download a lora adapter as an example"
   ]
  },
  {
   "cell_type": "code",
   "execution_count": 3,
   "id": "67eef48a-2c92-4b97-800c-51cbc0adce03",
   "metadata": {},
   "outputs": [
    {
     "data": {
      "application/vnd.jupyter.widget-view+json": {
       "model_id": "fc0191e867394bd182e92bbc1f45f8e5",
       "version_major": 2,
       "version_minor": 0
      },
      "text/plain": [
       "Fetching 4 files:   0%|          | 0/4 [00:00<?, ?it/s]"
      ]
     },
     "metadata": {},
     "output_type": "display_data"
    },
    {
     "data": {
      "application/vnd.jupyter.widget-view+json": {
       "model_id": "b9df79fd9f0a443a9b6aa94eb4de8a35",
       "version_major": 2,
       "version_minor": 0
      },
      "text/plain": [
       "adapter_config.json:   0%|          | 0.00/521 [00:00<?, ?B/s]"
      ]
     },
     "metadata": {},
     "output_type": "display_data"
    },
    {
     "data": {
      "application/vnd.jupyter.widget-view+json": {
       "model_id": "ba9312e612d347d4aa3baa411703c923",
       "version_major": 2,
       "version_minor": 0
      },
      "text/plain": [
       ".gitattributes:   0%|          | 0.00/1.52k [00:00<?, ?B/s]"
      ]
     },
     "metadata": {},
     "output_type": "display_data"
    },
    {
     "data": {
      "application/vnd.jupyter.widget-view+json": {
       "model_id": "f018c4af5e644cb4907abd3daf180c29",
       "version_major": 2,
       "version_minor": 0
      },
      "text/plain": [
       "README.md:   0%|          | 0.00/964 [00:00<?, ?B/s]"
      ]
     },
     "metadata": {},
     "output_type": "display_data"
    },
    {
     "data": {
      "application/vnd.jupyter.widget-view+json": {
       "model_id": "e0e0204d4f4e480dbb99f62073956662",
       "version_major": 2,
       "version_minor": 0
      },
      "text/plain": [
       "adapter_model.bin:   0%|          | 0.00/501M [00:00<?, ?B/s]"
      ]
     },
     "metadata": {},
     "output_type": "display_data"
    },
    {
     "data": {
      "text/plain": [
       "'/home/ec2-user/SageMaker/sagemaker-lora-finetuning/llama-2-13b-qlora-hosting-sagemaker-DLC/lora-adapter'"
      ]
     },
     "execution_count": 3,
     "metadata": {},
     "output_type": "execute_result"
    }
   ],
   "source": [
    "from huggingface_hub import snapshot_download\n",
    "lora_adapter_id = \"Mikael110/llama-2-13b-guanaco-qlora\"\n",
    "revision = \"main\"\n",
    "lora_local_dir = \"lora-adapter\"\n",
    "\n",
    "snapshot_download(repo_id=lora_adapter_id, \n",
    "                  revision=revision, \n",
    "                  local_dir=lora_local_dir,\n",
    "                 local_dir_use_symlinks=False)"
   ]
  },
  {
   "cell_type": "markdown",
   "id": "06329baa",
   "metadata": {},
   "source": [
    "### Merge the model with Lora weights\n",
    "\n",
    "Save the combined model and tokenizer"
   ]
  },
  {
   "cell_type": "code",
   "execution_count": 4,
   "id": "4ec22b41-ee33-40e1-a895-c817d92658a4",
   "metadata": {},
   "outputs": [
    {
     "data": {
      "application/vnd.jupyter.widget-view+json": {
       "model_id": "95c7221ee9a4423f8f2d1460a0b11ccb",
       "version_major": 2,
       "version_minor": 0
      },
      "text/plain": [
       "Loading checkpoint shards:   0%|          | 0/3 [00:00<?, ?it/s]"
      ]
     },
     "metadata": {},
     "output_type": "display_data"
    },
    {
     "name": "stderr",
     "output_type": "stream",
     "text": [
      "/home/ec2-user/anaconda3/envs/pytorch_p310/lib/python3.10/site-packages/transformers/generation/configuration_utils.py:389: UserWarning: `do_sample` is set to `False`. However, `temperature` is set to `0.9` -- this flag is only used in sample-based generation modes. You should set `do_sample=True` or unset `temperature`. This was detected when initializing the generation config instance, which means the corresponding file may hold incorrect parameterization and should be fixed.\n",
      "  warnings.warn(\n",
      "/home/ec2-user/anaconda3/envs/pytorch_p310/lib/python3.10/site-packages/transformers/generation/configuration_utils.py:394: UserWarning: `do_sample` is set to `False`. However, `top_p` is set to `0.6` -- this flag is only used in sample-based generation modes. You should set `do_sample=True` or unset `top_p`. This was detected when initializing the generation config instance, which means the corresponding file may hold incorrect parameterization and should be fixed.\n",
      "  warnings.warn(\n",
      "/home/ec2-user/anaconda3/envs/pytorch_p310/lib/python3.10/site-packages/transformers/generation/configuration_utils.py:557: UserWarning: The generation config instance is invalid -- `.validate()` throws warnings and/or exceptions. Fix these issues to save the configuration. This warning will be raised to an exception in v4.34.\n",
      "\n",
      "Thrown during validation:\n",
      "`do_sample` is set to `False`. However, `temperature` is set to `0.9` -- this flag is only used in sample-based generation modes. You should set `do_sample=True` or unset `temperature`.\n",
      "  warnings.warn(\n"
     ]
    },
    {
     "data": {
      "text/plain": [
       "('merged-4bit/tokenizer_config.json',\n",
       " 'merged-4bit/special_tokens_map.json',\n",
       " 'merged-4bit/tokenizer.model',\n",
       " 'merged-4bit/added_tokens.json',\n",
       " 'merged-4bit/tokenizer.json')"
      ]
     },
     "execution_count": 4,
     "metadata": {},
     "output_type": "execute_result"
    }
   ],
   "source": [
    "model_name = \"NousResearch/Llama-2-13b-hf\"\n",
    "# Reload model in FP16 and merge it with LoRA weights\n",
    "base_model = AutoModelForCausalLM.from_pretrained(\n",
    "    model_name,\n",
    "    low_cpu_mem_usage=True,\n",
    "    torch_dtype=torch.float16,\n",
    "    device_map=\"auto\",\n",
    ")\n",
    "\n",
    "model = PeftModel.from_pretrained(base_model, lora_local_dir)\n",
    "model = model.merge_and_unload()\n",
    "save_dir = \"merged-4bit\"\n",
    "model.save_pretrained(save_dir, safe_serialization=True, max_shard_size=\"2GB\")\n",
    "\n",
    "# Reload tokenizer to save it\n",
    "tokenizer = AutoTokenizer.from_pretrained(model_name, trust_remote_code=True)\n",
    "tokenizer.pad_token = tokenizer.eos_token\n",
    "tokenizer.padding_side = \"right\"\n",
    "\n",
    "tokenizer.save_pretrained(save_dir)"
   ]
  },
  {
   "cell_type": "markdown",
   "id": "8547a728",
   "metadata": {},
   "source": [
    "### > upload the combined model to S3"
   ]
  },
  {
   "cell_type": "code",
   "execution_count": 7,
   "id": "878c22c4",
   "metadata": {
    "scrolled": true
   },
   "outputs": [
    {
     "name": "stdout",
     "output_type": "stream",
     "text": [
      "upload: ./config.json to s3://sagemaker-us-west-2-376678947624/NousResearch/Llama-2-13b-hf-qlora/models/config.json\n",
      "upload: ./model-00001-of-00014.safetensors to s3://sagemaker-us-west-2-376678947624/NousResearch/Llama-2-13b-hf-qlora/models/model-00001-of-00014.safetensors\n",
      "upload: ./model-00003-of-00014.safetensors to s3://sagemaker-us-west-2-376678947624/NousResearch/Llama-2-13b-hf-qlora/models/model-00003-of-00014.safetensors\n",
      "upload: ./model-00004-of-00014.safetensors to s3://sagemaker-us-west-2-376678947624/NousResearch/Llama-2-13b-hf-qlora/models/model-00004-of-00014.safetensors\n",
      "upload: ./model-00006-of-00014.safetensors to s3://sagemaker-us-west-2-376678947624/NousResearch/Llama-2-13b-hf-qlora/models/model-00006-of-00014.safetensors\n",
      "upload: ./model-00002-of-00014.safetensors to s3://sagemaker-us-west-2-376678947624/NousResearch/Llama-2-13b-hf-qlora/models/model-00002-of-00014.safetensors\n",
      "upload: ./model-00005-of-00014.safetensors to s3://sagemaker-us-west-2-376678947624/NousResearch/Llama-2-13b-hf-qlora/models/model-00005-of-00014.safetensors\n",
      "upload: ./model-00007-of-00014.safetensors to s3://sagemaker-us-west-2-376678947624/NousResearch/Llama-2-13b-hf-qlora/models/model-00007-of-00014.safetensors\n",
      "upload: ./model-00008-of-00014.safetensors to s3://sagemaker-us-west-2-376678947624/NousResearch/Llama-2-13b-hf-qlora/models/model-00008-of-00014.safetensors\n",
      "upload: ./model-00009-of-00014.safetensors to s3://sagemaker-us-west-2-376678947624/NousResearch/Llama-2-13b-hf-qlora/models/model-00009-of-00014.safetensors\n",
      "upload: ./model-00010-of-00014.safetensors to s3://sagemaker-us-west-2-376678947624/NousResearch/Llama-2-13b-hf-qlora/models/model-00010-of-00014.safetensors\n",
      "upload: ./special_tokens_map.json to s3://sagemaker-us-west-2-376678947624/NousResearch/Llama-2-13b-hf-qlora/models/special_tokens_map.json\n",
      "upload: ./model.safetensors.index.json to s3://sagemaker-us-west-2-376678947624/NousResearch/Llama-2-13b-hf-qlora/models/model.safetensors.index.json\n",
      "upload: ./tokenizer.json to s3://sagemaker-us-west-2-376678947624/NousResearch/Llama-2-13b-hf-qlora/models/tokenizer.json\n",
      "upload: ./tokenizer.model to s3://sagemaker-us-west-2-376678947624/NousResearch/Llama-2-13b-hf-qlora/models/tokenizer.model\n",
      "upload: ./tokenizer_config.json to s3://sagemaker-us-west-2-376678947624/NousResearch/Llama-2-13b-hf-qlora/models/tokenizer_config.json\n",
      "upload: ./model-00012-of-00014.safetensors to s3://sagemaker-us-west-2-376678947624/NousResearch/Llama-2-13b-hf-qlora/models/model-00012-of-00014.safetensors\n",
      "upload: ./model-00011-of-00014.safetensors to s3://sagemaker-us-west-2-376678947624/NousResearch/Llama-2-13b-hf-qlora/models/model-00011-of-00014.safetensors\n",
      "upload: ./model-00014-of-00014.safetensors to s3://sagemaker-us-west-2-376678947624/NousResearch/Llama-2-13b-hf-qlora/models/model-00014-of-00014.safetensors\n",
      "upload: ./model-00013-of-00014.safetensors to s3://sagemaker-us-west-2-376678947624/NousResearch/Llama-2-13b-hf-qlora/models/model-00013-of-00014.safetensors\n"
     ]
    }
   ],
   "source": [
    "import sagemaker\n",
    "bucket = sagemaker.Session().default_bucket()\n",
    "prefix  = f\"{model_name}-qlora/models\"\n",
    "model_data_s3_location = f\"s3://{bucket}/{prefix}\"\n",
    "!cd {save_dir} && aws s3 cp --recursive . {model_data_s3_location}"
   ]
  },
  {
   "cell_type": "markdown",
   "id": "488be5ca",
   "metadata": {},
   "source": [
    "### > store the parameters into the enviornment for downstream process"
   ]
  },
  {
   "cell_type": "code",
   "execution_count": 8,
   "id": "4efe75ba",
   "metadata": {},
   "outputs": [
    {
     "name": "stdout",
     "output_type": "stream",
     "text": [
      "Stored 'model_data_s3_location' (str)\n",
      "Stored 'model_name' (str)\n"
     ]
    }
   ],
   "source": [
    "%store model_data_s3_location\n",
    "%store model_name"
   ]
  },
  {
   "cell_type": "code",
   "execution_count": null,
   "id": "509363b0",
   "metadata": {},
   "outputs": [],
   "source": []
  }
 ],
 "metadata": {
  "kernelspec": {
   "display_name": "conda_pytorch_p310",
   "language": "python",
   "name": "conda_pytorch_p310"
  },
  "language_info": {
   "codemirror_mode": {
    "name": "ipython",
    "version": 3
   },
   "file_extension": ".py",
   "mimetype": "text/x-python",
   "name": "python",
   "nbconvert_exporter": "python",
   "pygments_lexer": "ipython3",
   "version": "3.10.13"
  }
 },
 "nbformat": 4,
 "nbformat_minor": 5
}
