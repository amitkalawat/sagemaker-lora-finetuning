{
 "cells": [
  {
   "cell_type": "markdown",
   "id": "6bdb4550",
   "metadata": {},
   "source": [
    "## Merge base and LoRA adapters For LLama2 13B\n",
    "\n",
    "Make sure you pick an instance type with enough memory. Llama2 13B needs about 26GB of memory to process the merge"
   ]
  },
  {
   "cell_type": "code",
   "execution_count": null,
   "id": "f12bb7be-499d-4aae-9930-ee849e8b3a8b",
   "metadata": {},
   "outputs": [],
   "source": [
    "!pip install -Uq peft==0.4.0\n",
    "!pip install -Uq bitsandbytes==0.40.2\n",
    "!pip install -Uq sentencepiece"
   ]
  },
  {
   "cell_type": "markdown",
   "id": "2ef73adf-40b1-4f0e-91e3-8952e2b27b69",
   "metadata": {},
   "source": [
    "### > Setup"
   ]
  },
  {
   "cell_type": "code",
   "execution_count": null,
   "id": "af828578-3933-442e-b878-08a971e60e4e",
   "metadata": {},
   "outputs": [],
   "source": [
    "import torch\n",
    "from transformers import AutoModelForCausalLM, AutoTokenizer, BitsAndBytesConfig\n",
    "from peft import PeftModel"
   ]
  },
  {
   "cell_type": "markdown",
   "id": "f55e53ad-c4b0-4867-bed5-3cb704aa0038",
   "metadata": {},
   "source": [
    "### > Download a lora adapter as an example"
   ]
  },
  {
   "cell_type": "code",
   "execution_count": null,
   "id": "67eef48a-2c92-4b97-800c-51cbc0adce03",
   "metadata": {},
   "outputs": [],
   "source": [
    "from huggingface_hub import snapshot_download\n",
    "lora_adapter_id = \"Mikael110/llama-2-13b-guanaco-qlora\"\n",
    "revision = \"main\"\n",
    "lora_local_dir = \"lora-adapter\"\n",
    "\n",
    "snapshot_download(repo_id=lora_adapter_id, \n",
    "                  revision=revision, \n",
    "                  local_dir=lora_local_dir,\n",
    "                 local_dir_use_symlinks=False)"
   ]
  },
  {
   "cell_type": "markdown",
   "id": "06329baa",
   "metadata": {},
   "source": [
    "### Merge the model with Lora weights\n",
    "\n",
    "Save the combined model and tokenizer"
   ]
  },
  {
   "cell_type": "code",
   "execution_count": null,
   "id": "4ec22b41-ee33-40e1-a895-c817d92658a4",
   "metadata": {},
   "outputs": [],
   "source": [
    "model_name = \"NousResearch/Llama-2-13b-hf\"\n",
    "# Reload model in FP16 and merge it with LoRA weights\n",
    "base_model = AutoModelForCausalLM.from_pretrained(\n",
    "    model_name,\n",
    "    low_cpu_mem_usage=True,\n",
    "    torch_dtype=torch.float16,\n",
    "    device_map=\"auto\",\n",
    ")\n",
    "\n",
    "model = PeftModel.from_pretrained(base_model, lora_local_dir)\n",
    "model = model.merge_and_unload()\n",
    "save_dir = \"merged-4bit\"\n",
    "model.save_pretrained(save_dir, safe_serialization=True, max_shard_size=\"2GB\")\n",
    "\n",
    "# Reload tokenizer to save it\n",
    "tokenizer = AutoTokenizer.from_pretrained(model_name, trust_remote_code=True)\n",
    "tokenizer.pad_token = tokenizer.eos_token\n",
    "tokenizer.padding_side = \"right\"\n",
    "\n",
    "tokenizer.save_pretrained(save_dir)"
   ]
  },
  {
   "cell_type": "markdown",
   "id": "8547a728",
   "metadata": {},
   "source": [
    "### > upload the combined model to S3"
   ]
  },
  {
   "cell_type": "code",
   "execution_count": null,
   "id": "878c22c4",
   "metadata": {
    "scrolled": true
   },
   "outputs": [],
   "source": [
    "import sagemaker\n",
    "bucket = sagemaker.Session().default_bucket()\n",
    "prefix  = f\"{model_name}/models\"\n",
    "model_data_s3_location = f\"s3://{bucket}/{prefix}\"\n",
    "!cd {save_dir} && aws s3 cp --recursive . {model_data_s3_location}"
   ]
  },
  {
   "cell_type": "markdown",
   "id": "488be5ca",
   "metadata": {},
   "source": [
    "### > store the parameters into the enviornment for downstream process"
   ]
  },
  {
   "cell_type": "code",
   "execution_count": null,
   "id": "4efe75ba",
   "metadata": {},
   "outputs": [],
   "source": [
    "%store model_data_s3_location\n",
    "%store model_name"
   ]
  },
  {
   "cell_type": "code",
   "execution_count": null,
   "id": "509363b0",
   "metadata": {},
   "outputs": [],
   "source": []
  }
 ],
 "metadata": {
  "kernelspec": {
   "display_name": "conda_pytorch_p310",
   "language": "python",
   "name": "conda_pytorch_p310"
  },
  "language_info": {
   "codemirror_mode": {
    "name": "ipython",
    "version": 3
   },
   "file_extension": ".py",
   "mimetype": "text/x-python",
   "name": "python",
   "nbconvert_exporter": "python",
   "pygments_lexer": "ipython3",
   "version": "3.10.13"
  }
 },
 "nbformat": 4,
 "nbformat_minor": 5
}
